{
 "cells": [
  {
   "cell_type": "code",
   "execution_count": null,
   "metadata": {},
   "outputs": [],
   "source": [
    "import pandas as pd\n",
    "import matplotlib.pyplot as plt\n",
    "import numpy as np"
   ]
  },
  {
   "cell_type": "code",
   "execution_count": null,
   "metadata": {},
   "outputs": [],
   "source": [
    "# 正方行列と X および Y のラベルの行列を渡す\n",
    "#from https://qiita.com/ynakayama/items/7dc01f45caf6d87a981b\n",
    "def draw_heatmap(data, row_labels, column_labels):\n",
    "    # 描画する\n",
    "    fig, ax = plt.subplots(figsize=(30,30))\n",
    "    heatmap = ax.pcolor(data, cmap=plt.cm.Blues)\n",
    "\n",
    "    ax.set_xticks(np.arange(data.shape[0]) + 0.5, minor=False)\n",
    "    ax.set_yticks(np.arange(data.shape[1]) + 0.5, minor=False)\n",
    "\n",
    "    ax.invert_yaxis()\n",
    "    ax.xaxis.tick_top()\n",
    "    \n",
    "    ax.set_xticklabels(row_labels, minor=False, rotation=90)\n",
    "    ax.set_yticklabels(column_labels, minor=False)\n",
    "    plt.show()\n",
    "    #plt.savefig('image.png')\n",
    "\n",
    "    return heatmap"
   ]
  },
  {
   "cell_type": "code",
   "execution_count": null,
   "metadata": {},
   "outputs": [],
   "source": [
    "def draw_bar(data, columns, rows):\n",
    "    fig, ax = plt.subplots(figsize=(30,5))\n",
    "    color_list = ['#E60012', '#F39800', '#FFF100', '#8FC31F', '#009944', '#009E96', '#00A0E9', '#0068B7', '#1D2088', '#920783', '#E4007F', '#E5004F', '#EA5532', '#F6AD3C', '#FFF33F', '#AACF52', '#00A95F', '#00ADA9', '#00AFEC', '#187FC4', '#4D4398', '#A64A97', '#E85298', '#E9546B', '#D7000F', '#E48E00', '#F3E100', '#86B81B', '#009140', '#00958D', '#0097DB', '#0062AC', '#1B1C80', '#8A017C', '#D60077', '#D7004A', '#C7000B', '#D28300', '#DFD000', '#7BAA17', '#00873C', '#008A83', '#008DCB', '#005AA0', '#181878', '#800073', '#C6006F', '#C70044', '#EF845C', '#F9C270', '#FFF67F', '#C1DB81', '#69BD83', '#61C1BE', '#54C3F1', '#6C9BD2', '#796BAF', '#BA79B1', '#EE87B4', '#EF858C', '#DE6641', '#E8AC51', '#F2E55C', '#AAC863', '#39A869', '#27ACA9', '#00AEE0', '#4784BF', '#5D5099', '#A55B9A', '#DC669B', '#DD6673']\n",
    "    left = np.arange(len(columns))  # numpyで横軸を設定\n",
    "    labels = columns \n",
    "    width = 1/len(rows) \n",
    "    for i in range(len(rows)):\n",
    "        plt.bar(left+width*i, data[i], color=color_list[i], width=width, align='center', label = rows[i])\n",
    "    plt.xticks(left + width/2, labels, rotation=90)\n",
    "    plt.legend()\n",
    "    plt.show()"
   ]
  },
  {
   "cell_type": "code",
   "execution_count": null,
   "metadata": {},
   "outputs": [],
   "source": [
    "def draw_stackedbar(data, columns, rows):\n",
    "    fig, ax = plt.subplots(figsize=(30,5))\n",
    "    color_list = ['#E60012', '#F39800', '#FFF100', '#8FC31F', '#009944', '#009E96', '#00A0E9', '#0068B7', '#1D2088', '#920783', '#E4007F', '#E5004F', '#EA5532', '#F6AD3C', '#FFF33F', '#AACF52', '#00A95F', '#00ADA9', '#00AFEC', '#187FC4', '#4D4398', '#A64A97', '#E85298', '#E9546B', '#D7000F', '#E48E00', '#F3E100', '#86B81B', '#009140', '#00958D', '#0097DB', '#0062AC', '#1B1C80', '#8A017C', '#D60077', '#D7004A', '#C7000B', '#D28300', '#DFD000', '#7BAA17', '#00873C', '#008A83', '#008DCB', '#005AA0', '#181878', '#800073', '#C6006F', '#C70044', '#EF845C', '#F9C270', '#FFF67F', '#C1DB81', '#69BD83', '#61C1BE', '#54C3F1', '#6C9BD2', '#796BAF', '#BA79B1', '#EE87B4', '#EF858C', '#DE6641', '#E8AC51', '#F2E55C', '#AAC863', '#39A869', '#27ACA9', '#00AEE0', '#4784BF', '#5D5099', '#A55B9A', '#DC669B', '#DD6673']\n",
    "    left = np.arange(len(columns))  # numpyで横軸を設定\n",
    "    labels = columns \n",
    "    for i in range(len(rows)):\n",
    "        if i == 0:\n",
    "            plt.bar(left, data[i], color=color_list[i], align='center', label = rows[i])\n",
    "        else:\n",
    "            plt.bar(left, data[i], color=color_list[i], align='center', label = rows[i], bottom=[sum(col) for col in zip(*[data[j] for j in range(i)])])\n",
    "    plt.xticks(left, labels, rotation=90)\n",
    "    plt.legend()\n",
    "    plt.show()"
   ]
  },
  {
   "cell_type": "markdown",
   "metadata": {},
   "source": [
    "## 基本分析\n",
    "2023/04/18"
   ]
  },
  {
   "cell_type": "code",
   "execution_count": null,
   "metadata": {},
   "outputs": [],
   "source": [
    "wbakeries = pd.read_csv('Bakery_withWeather.csv', index_col=0)\n",
    "wbakeries"
   ]
  },
  {
   "cell_type": "code",
   "execution_count": null,
   "metadata": {},
   "outputs": [],
   "source": [
    "wbakeries.columns"
   ]
  },
  {
   "cell_type": "markdown",
   "metadata": {},
   "source": [
    "### (1) 同じTransaction IDで売れているもの(一緒に買われる商品、相関)"
   ]
  },
  {
   "cell_type": "code",
   "execution_count": null,
   "metadata": {},
   "outputs": [],
   "source": [
    "pivot = wbakeries.pivot_table(index = ['Items'], aggfunc = 'size')\n",
    "pivot.plot.bar(figsize=(20,5), title='Items')\n",
    "plt.ylabel(\"number of days\")\n",
    "plt.show()"
   ]
  },
  {
   "cell_type": "code",
   "execution_count": null,
   "metadata": {},
   "outputs": [],
   "source": [
    "#すべてのアイテム情報を入手\n",
    "items = list(wbakeries.pivot_table(index = ['Items'], aggfunc = 'size').index)\n",
    "#items"
   ]
  },
  {
   "cell_type": "code",
   "execution_count": null,
   "metadata": {},
   "outputs": [],
   "source": [
    "#TransactionNo毎に買った商品の配列　TransactionNo×items\n",
    "item_days = [[0 for i in range(len(items))] for j in range(max(wbakeries['TransactionNo']))]"
   ]
  },
  {
   "cell_type": "code",
   "execution_count": null,
   "metadata": {},
   "outputs": [],
   "source": [
    "for i in range(len(wbakeries)):\n",
    "    item_days[wbakeries.iloc[i,0]-1][items.index(wbakeries.iloc[i,1])] += 1"
   ]
  },
  {
   "cell_type": "code",
   "execution_count": null,
   "metadata": {},
   "outputs": [],
   "source": [
    "#heatmapにして表示 -> メモリ不足\n",
    "#draw_heatmap(item_days, items, [j for j in range(max(wbakeries['TransactionNo']))])"
   ]
  },
  {
   "cell_type": "code",
   "execution_count": null,
   "metadata": {},
   "outputs": [],
   "source": [
    "#pndasに変更\n",
    "pd_item_days = pd.DataFrame(item_days, index=[j for j in range(max(wbakeries['TransactionNo']))], columns=items)\n",
    "pd_item_days\n",
    "pd_item_days.to_csv('02_output/item_days.csv')"
   ]
  },
  {
   "cell_type": "code",
   "execution_count": null,
   "metadata": {},
   "outputs": [],
   "source": [
    "#一緒に買われている商品\n",
    "pd_item_corr = pd_item_days.corr()\n",
    "draw_heatmap(pd_item_corr.values, items, items)\n",
    "pd_item_corr\n",
    "pd_item_corr.to_csv('02_output/item_corr.csv')"
   ]
  },
  {
   "cell_type": "code",
   "execution_count": null,
   "metadata": {},
   "outputs": [],
   "source": [
    "#似ている取引（TransactionNoの相関）\n",
    "#pd_days_corr = pd_item_days.T.corr()\n",
    "#draw_heatmap(pd_days_corr.values, items, items)\n",
    "#pd_days_corr\n",
    "#pd_days_corr.to_csv('02_output/days_corr.csv')"
   ]
  },
  {
   "cell_type": "markdown",
   "metadata": {},
   "source": [
    "### (2) Daypartでの分類(時間帯によって売れているもの) \n",
    "Daypart,Count Morning,8687 Afternoon,11871 Evening,522 Night,14"
   ]
  },
  {
   "cell_type": "code",
   "execution_count": null,
   "metadata": {},
   "outputs": [],
   "source": [
    "pivot = wbakeries.pivot_table(index = ['Daypart'], aggfunc = 'size')\n",
    "pivot.plot.bar(figsize=(20,5), title='Daypart')\n",
    "plt.ylabel(\"number of days\")\n",
    "plt.show()"
   ]
  },
  {
   "cell_type": "code",
   "execution_count": null,
   "metadata": {},
   "outputs": [],
   "source": [
    "#すべてのDaypart情報を入手\n",
    "dayparts = list(wbakeries.pivot_table(index = ['Daypart'], aggfunc = 'size').index)\n",
    "dayparts"
   ]
  },
  {
   "cell_type": "code",
   "execution_count": null,
   "metadata": {},
   "outputs": [],
   "source": [
    "#dayparts毎に買った商品の配列　dayparts×items\n",
    "item_dayparts = [[0 for i in range(len(items))] for j in range(len(dayparts))]"
   ]
  },
  {
   "cell_type": "code",
   "execution_count": null,
   "metadata": {},
   "outputs": [],
   "source": [
    "for i in range(len(wbakeries)):\n",
    "    item_dayparts[dayparts.index(wbakeries.iloc[i,3])][items.index(wbakeries.iloc[i,1])] += 1"
   ]
  },
  {
   "cell_type": "code",
   "execution_count": null,
   "metadata": {},
   "outputs": [],
   "source": [
    "pd_item_dayparts = pd.DataFrame(item_dayparts, index= dayparts, columns= items)\n",
    "pd_item_dayparts\n",
    "pd_item_dayparts.to_csv('02_output/item_dayparts.csv')"
   ]
  },
  {
   "cell_type": "code",
   "execution_count": null,
   "metadata": {},
   "outputs": [],
   "source": [
    "draw_bar(item_dayparts, items, dayparts)\n",
    "draw_stackedbar(item_dayparts, items, dayparts)"
   ]
  },
  {
   "cell_type": "code",
   "execution_count": null,
   "metadata": {},
   "outputs": [],
   "source": [
    "#一緒に買われている商品ー相関\n",
    "pd_item_corr = pd_item_dayparts.corr()\n",
    "draw_heatmap(pd_item_corr.values, items, items)\n",
    "pd_item_corr\n",
    "pd_item_corr.to_csv('02_output/item_dayparts_corr.csv')"
   ]
  },
  {
   "cell_type": "markdown",
   "metadata": {},
   "source": [
    "### (3) DayType : 平日か週末かで売れているもの\n",
    "DayType,Count Weekend,8228 Weekday,12866"
   ]
  },
  {
   "cell_type": "code",
   "execution_count": null,
   "metadata": {},
   "outputs": [],
   "source": [
    "pivot = wbakeries.pivot_table(index = ['DayType'], aggfunc = 'size')\n",
    "pivot.plot.bar(figsize=(20,5), title='DayType')\n",
    "plt.ylabel(\"number of days\")\n",
    "plt.show()"
   ]
  },
  {
   "cell_type": "code",
   "execution_count": null,
   "metadata": {},
   "outputs": [],
   "source": [
    "#すべてのDayType情報を入手\n",
    "daytypes = list(wbakeries.pivot_table(index = ['DayType'], aggfunc = 'size').index)\n",
    "daytypes"
   ]
  },
  {
   "cell_type": "code",
   "execution_count": null,
   "metadata": {},
   "outputs": [],
   "source": [
    "#daytypes毎に買った商品の配列　daytypes×items\n",
    "item_daytypes = [[0 for i in range(len(items))] for j in range(len(daytypes))]"
   ]
  },
  {
   "cell_type": "code",
   "execution_count": null,
   "metadata": {},
   "outputs": [],
   "source": [
    "for i in range(len(wbakeries)):\n",
    "    item_daytypes[daytypes.index(wbakeries.iloc[i,4])][items.index(wbakeries.iloc[i,1])] += 1"
   ]
  },
  {
   "cell_type": "code",
   "execution_count": null,
   "metadata": {},
   "outputs": [],
   "source": [
    "pd_item_daytypes = pd.DataFrame(item_daytypes, index= daytypes, columns= items)\n",
    "pd_item_daytypes\n",
    "pd_item_daytypes.to_csv('02_output/item_dayparts.csv')"
   ]
  },
  {
   "cell_type": "code",
   "execution_count": null,
   "metadata": {},
   "outputs": [],
   "source": [
    "draw_bar(item_daytypes, items, daytypes)\n",
    "draw_stackedbar(item_daytypes, items, daytypes)"
   ]
  },
  {
   "cell_type": "markdown",
   "metadata": {},
   "source": [
    "### (4) weather_main : 天気との相関がある商品\n",
    "そもそも全体の売上にも影響があるか？ weather_main,Count Clouds,9346 Clear,1944 ,3714 Rain,4462 Fog,478 Mist,575 Haze,154 Drizzle,386 Snow,35"
   ]
  },
  {
   "cell_type": "code",
   "execution_count": null,
   "metadata": {},
   "outputs": [],
   "source": [
    "pivot = wbakeries.pivot_table(index = ['weather_main'], aggfunc = 'size')\n",
    "pivot.plot.bar(figsize=(20,5), title='weather_main')\n",
    "plt.ylabel(\"number of days\")\n",
    "plt.show()"
   ]
  },
  {
   "cell_type": "code",
   "execution_count": null,
   "metadata": {},
   "outputs": [],
   "source": [
    "#すべてのweather_main情報を入手\n",
    "weathermains = list(wbakeries.pivot_table(index = ['weather_main'], aggfunc = 'size').index)\n",
    "weathermains = weathermains + ['NaN']\n",
    "weathermains"
   ]
  },
  {
   "cell_type": "code",
   "execution_count": null,
   "metadata": {},
   "outputs": [],
   "source": [
    "#weather_mains毎に買った商品の配列　daytypes×items\n",
    "item_weathermains = [[0 for i in range(len(items))] for j in range(len(weathermains))]"
   ]
  },
  {
   "cell_type": "code",
   "execution_count": null,
   "metadata": {},
   "outputs": [],
   "source": [
    "for i in range(len(wbakeries)):\n",
    "    try:\n",
    "        item_weathermains[weathermains.index(wbakeries.iloc[i,31])][items.index(wbakeries.iloc[i,1])] += 1\n",
    "    except:\n",
    "        item_weathermains[8][items.index(wbakeries.iloc[i,1])] += 1#8番目にnanを入れている"
   ]
  },
  {
   "cell_type": "code",
   "execution_count": null,
   "metadata": {},
   "outputs": [],
   "source": [
    "pd_item_weathermains = pd.DataFrame(item_weathermains, index= weathermains, columns= items)\n",
    "pd_item_weathermains\n",
    "pd_item_weathermains.to_csv('02_output/item_weathermains.csv')"
   ]
  },
  {
   "cell_type": "code",
   "execution_count": null,
   "metadata": {},
   "outputs": [],
   "source": [
    "draw_bar(item_weathermains, items, weathermains)\n",
    "draw_stackedbar(item_weathermains, items, weathermains)"
   ]
  },
  {
   "cell_type": "markdown",
   "metadata": {},
   "source": [
    "### (5) 主力(人気)商品の抽出\n",
    "グラフ&出力csvにて確認"
   ]
  }
 ],
 "metadata": {
  "kernelspec": {
   "display_name": "Python 3",
   "language": "python",
   "name": "python3"
  },
  "language_info": {
   "codemirror_mode": {
    "name": "ipython",
    "version": 3
   },
   "file_extension": ".py",
   "mimetype": "text/x-python",
   "name": "python",
   "nbconvert_exporter": "python",
   "pygments_lexer": "ipython3",
   "version": "3.8.3"
  }
 },
 "nbformat": 4,
 "nbformat_minor": 4
}

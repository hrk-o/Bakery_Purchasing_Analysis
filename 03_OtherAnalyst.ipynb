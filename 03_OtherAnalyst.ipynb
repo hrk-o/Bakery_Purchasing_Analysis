{
 "cells": [
  {
   "cell_type": "markdown",
   "metadata": {},
   "source": [
    "## エクセルでの情報確認\n",
    "2023/04/19"
   ]
  },
  {
   "cell_type": "markdown",
   "metadata": {},
   "source": [
    "### (1) 同じTransaction IDで売れているもの(一緒に買われる商品、2品購入回数比較）\n",
    "エクセルファイル：03_output/titem_counts.xlsx  \n",
    "  \n",
    "上位10品  \n",
    "Coffee&Coffee\n",
    "Coffee&Bread\n",
    "Coffee&Cake\n",
    "Tea&Coffee\n",
    "Pastry&Coffee\n",
    "Sandwich&Coffee\n",
    "Bread&Bread\n",
    "Tea&Cake\n",
    "Tea&Bread\n",
    "Cookies&Coffee  \n",
    "\n",
    "飲み物（CoffeeやTea）と食べ物、BreadとBreadの組み合わせが上位に来ている。  \n",
    "特にコーヒーが売れていることから、パン屋だがコーヒーを買いに来る人が多い可能性がある  \n",
    "<img src=\"03_output/img/titem_counts_1.png\">"
   ]
  },
  {
   "cell_type": "markdown",
   "metadata": {},
   "source": [
    "### (1) 同じTransaction IDで売れているもの(一緒に買われる商品、相関比較）\n",
    "TransactionNo毎に買った商品の配列　TransactionNo×itemsから作成した相関係数より  \n",
    "エクセルファイル：03_output/item_corr.xlsx\n",
    "<img src=\"03_output/img/item_corr_1.png\">\n",
    "  \n",
    "上位10位のデータ(+の相関)　　項目(相関)個数  \n",
    "Postcard&Tshirt(0.413)    1\n",
    "Extra Salami or Feta&Salad(0.337)    3\n",
    "Art Tray&Hack the stack(0.229)    0\n",
    "Bare Popcorn&Panatone(0.2)    1\n",
    "Fudge&Jam(0.171)    10\n",
    "Coffee granules &Mortimer(0.169)    0\n",
    "Hack the stack&My-49 Fruit Shoot(0.166)    0\n",
    "Caramel bites&Kids biscuit(0.166)    1\n",
    "Art Tray&Bacon(0.162)    0\n",
    "Caramel bites&My-21 Fruit Shoot(0.135)    0\n",
    "  \n",
    "相関での比較をすると、違ったように見える。  \n",
    "\"一緒に購入されない\"といった部分も、相関には影響している。\n",
    "  \n",
    "たとえば、下位10位(-の相関)で見てみると、  \n",
    "Pastry&Sandwich(-0.054)    3\n",
    "Coffee&Fudge(-0.054)    6\n",
    "Bread&Cake(-0.055)    79\n",
    "Bread&Coke(-0.062)    2\n",
    "Bread&Farm House(-0.078)    14\n",
    "Coffee&Scandinavian(-0.085)    25\n",
    "Coffee&Tea(-0.085)    137\n",
    "Bread&Tea(-0.089)    49\n",
    "Coffee&Farm House(-0.104)    22\n",
    "Bread&Coffee(-0.21)    125\n",
    "  \n",
    "どちら（相関or個数）を使うかは検討していかなければならない"
   ]
  },
  {
   "cell_type": "markdown",
   "metadata": {},
   "source": [
    "### (2) Daypartでの分類(時間帯によって売れているもの)\n",
    "<img src=\"03_output/img/item_dayparts_1.png\">\n",
    "  \n",
    "daypartsで見た時のitemのcos類似度：3_output/item_dayparts_cos.xlsx  \n",
    "%変更したもの：3_output/item_dayparts.xlsx  \n",
    "\n",
    "商品による違いがある。夜売れるものは少ない？？"
   ]
  },
  {
   "cell_type": "markdown",
   "metadata": {},
   "source": [
    "### (3) DayType : 平日か週末かで売れているもの \n",
    "<img src=\"03_output/img/item_daytypes_1.png\">\n",
    "%変更したもの：3_output/item_daytypes.xlsx  "
   ]
  },
  {
   "cell_type": "markdown",
   "metadata": {},
   "source": [
    "### (4) weather_main : 天気との相関がある商品\n",
    "### (5) 主力(人気)商品の抽出\n",
    "エクセルファイル：3_output/item_days.xlsx\n",
    "  \n",
    "天気の影響について  \n",
    "天候によって売れる品物については02のグラフから読み取ることが可能  \n",
    "天候によって売り上げが変化するかについて  \n",
    "　天候×売り上げ（TransactionNo）個数　→ 天候により売れる個数が違うか \n",
    " 　　\n",
    "   \n",
    " 　また時系列グラフを作成（日別）し、Daytype、Daypartの影響があるならばその点も加味すること  \n",
    "  　　土曜日が売り上げ個数としては多い。ほとんどMorningかAfternoon\n",
    "<img src=\"03_output/img/item_days_1.png\">\n",
    "<img src=\"03_output/img/item_days_2.png\">\n",
    "<img src=\"03_output/img/item_days_3.png\">\n",
    "日毎売り上げがあった時の天気（1TransactionNoで1積み上げ）  \n",
    "→1日の中での天候は変わる\n",
    "<img src=\"03_output/img/item_days_4.png\">"
   ]
  },
  {
   "cell_type": "code",
   "execution_count": null,
   "metadata": {},
   "outputs": [],
   "source": []
  }
 ],
 "metadata": {
  "kernelspec": {
   "display_name": "Python 3",
   "language": "python",
   "name": "python3"
  },
  "language_info": {
   "codemirror_mode": {
    "name": "ipython",
    "version": 3
   },
   "file_extension": ".py",
   "mimetype": "text/x-python",
   "name": "python",
   "nbconvert_exporter": "python",
   "pygments_lexer": "ipython3",
   "version": "3.8.3"
  }
 },
 "nbformat": 4,
 "nbformat_minor": 4
}
